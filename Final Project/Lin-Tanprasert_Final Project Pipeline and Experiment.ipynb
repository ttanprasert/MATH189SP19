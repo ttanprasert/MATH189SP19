{
 "cells": [
  {
   "cell_type": "markdown",
   "metadata": {},
   "source": [
    "# Experiment Notebook"
   ]
  },
  {
   "cell_type": "markdown",
   "metadata": {},
   "source": [
    "MATH 189 SP 2019 Final Project\n",
    "\n",
    "Thitaree (Mint) Tanprasert & Julianne Lin\n",
    "\n",
    "This project aims to recognize stock data patterns by encoding well-known patterns in the form of sequence of V-shaped vectors. Each V-shaped vector is encoded with 4 parameters: rotation angle, left attenna scaling, right atenna scaling, and shearing factor, with respect to a normalized V-shaped vector."
   ]
  },
  {
   "cell_type": "markdown",
   "metadata": {},
   "source": [
    "## Import necessary libraries"
   ]
  },
  {
   "cell_type": "code",
   "execution_count": 1,
   "metadata": {
    "collapsed": true
   },
   "outputs": [],
   "source": [
    "%matplotlib inline"
   ]
  },
  {
   "cell_type": "code",
   "execution_count": 2,
   "metadata": {
    "collapsed": true
   },
   "outputs": [],
   "source": [
    "import numpy as np\n",
    "import pandas as pd\n",
    "import glob\n",
    "import os\n",
    "import csv\n",
    "from sklearn.model_selection import StratifiedKFold\n",
    "import matplotlib.pyplot as plt"
   ]
  },
  {
   "cell_type": "markdown",
   "metadata": {},
   "source": [
    "## Helper functions"
   ]
  },
  {
   "cell_type": "code",
   "execution_count": 3,
   "metadata": {
    "collapsed": true
   },
   "outputs": [],
   "source": [
    "def read_data(file, att='open'):\n",
    "    \"\"\" Read the specified attribute from data file.\n",
    "        Default is 'open' attribute. \n",
    "    \"\"\"\n",
    "    \n",
    "    df = pd.read_csv(file)\n",
    "    return [float(x) for x in df[att]]"
   ]
  },
  {
   "cell_type": "code",
   "execution_count": 4,
   "metadata": {
    "collapsed": true
   },
   "outputs": [],
   "source": [
    "def get_Vectors(data):\n",
    "    \"\"\" Extract V vectors from data (list). Each vector is represented\n",
    "        as a sublist of coordinates [left_x, left_y, right_x, right_y],\n",
    "        assuming that the dip of the V is at coordinate (0, 0). \n",
    "    \"\"\"\n",
    "    L = []\n",
    "    \n",
    "    # Get start index; ignore first increase\n",
    "    st = 1\n",
    "    while data[st] >= data[st-1]:\n",
    "        st = st+1\n",
    "    st -= 1\n",
    "    \n",
    "    Vs = [] # list of all V vectors\n",
    "    Pts = [st+1]\n",
    "    LPts = []\n",
    "    i = st+1\n",
    "    down = True\n",
    "    while i < len(data):\n",
    "        if down:\n",
    "            if data[i] > data[i-1]:\n",
    "                V = [st-(i-1), data[st]-data[i-1]] # left vector coordinates\n",
    "                dip = i-1\n",
    "                LPts.append(i)\n",
    "                down = False\n",
    "            i += 1\n",
    "        else:\n",
    "            if data[i] < data[i-1]:\n",
    "                V = V + [(i-1)-dip, data[i-1]-data[dip]] # right vector coordinates\n",
    "                Vs.append(V) # add vector to list\n",
    "                Pts.append(i)\n",
    "                if len(Pts) > 1:\n",
    "                    L.append(Pts[-1]-Pts[-2])\n",
    "                st = i-1\n",
    "                down = True\n",
    "            i += 1\n",
    "            \n",
    "    return Vs, Pts, LPts, np.round(np.median(L))"
   ]
  },
  {
   "cell_type": "code",
   "execution_count": 5,
   "metadata": {
    "collapsed": true
   },
   "outputs": [],
   "source": [
    "def dist(x, y):\n",
    "    return np.sqrt(x**2 + y**2) # Euclidean distance"
   ]
  },
  {
   "cell_type": "code",
   "execution_count": 6,
   "metadata": {
    "collapsed": true
   },
   "outputs": [],
   "source": [
    "def getParams(v):\n",
    "    \"\"\" Get rotation, scaling, and shearing parameters with formula according to the midterm paper. \n",
    "        The parameters are returned as a list.\n",
    "    \"\"\"\n",
    "    \n",
    "    A = 0.5*np.array([-v[0]+v[2], v[0]+v[2], -v[1]+v[3], v[1]+v[3]]) # A11, A12, A21, A22\n",
    "    theta = np.arctan(A[2]/A[0])\n",
    "    s_l = A[0]/np.cos(theta)\n",
    "    s_r = A[3]-(A[1]*np.sin(theta))\n",
    "    m = (A[1] + s_r*np.sin(theta))/(s_l*np.cos(theta))\n",
    "    return [theta, s_l, s_r, m]"
   ]
  },
  {
   "cell_type": "markdown",
   "metadata": {},
   "source": [
    "## Data Smoothing Experiment"
   ]
  },
  {
   "cell_type": "markdown",
   "metadata": {},
   "source": [
    "Experiment with several level of smoothing with moving average. One round of convolution is one level of smoothing."
   ]
  },
  {
   "cell_type": "code",
   "execution_count": 7,
   "metadata": {
    "collapsed": true
   },
   "outputs": [],
   "source": [
    "file_dir = 'individual_stocks_5yr'\n",
    "files = [os.path.basename(elem) for elem in sorted(glob.glob(file_dir+'/*.csv'))]"
   ]
  },
  {
   "cell_type": "code",
   "execution_count": 8,
   "metadata": {
    "collapsed": false
   },
   "outputs": [
    {
     "name": "stderr",
     "output_type": "stream",
     "text": [
      "C:\\Users\\shini\\Anaconda3\\lib\\site-packages\\ipykernel\\__main__.py:4: VisibleDeprecationWarning: using a non-integer number instead of an integer will result in an error in the future\n",
      "C:\\Users\\shini\\Anaconda3\\lib\\site-packages\\ipykernel\\__main__.py:6: VisibleDeprecationWarning: using a non-integer number instead of an integer will result in an error in the future\n"
     ]
    }
   ],
   "source": [
    "file = file_dir + '/' + files[0]\n",
    "data = read_data(file)[300:500] # Read a 200-day window of data\n",
    "_, Pts, _, m = get_Vectors(data)\n",
    "conv_data = np.convolve(data, [1/m]*m, 'same') # First level of smoothing\n",
    "_, _, LPts1, m = get_Vectors(conv_data)\n",
    "conv_data2 = np.convolve(conv_data, [1/m]*m, 'same') # Second level of smoothing\n",
    "_, Pts2, LPts2, m = get_Vectors(conv_data2)"
   ]
  },
  {
   "cell_type": "code",
   "execution_count": 9,
   "metadata": {
    "collapsed": false
   },
   "outputs": [
    {
     "data": {
      "text/plain": [
       "<matplotlib.text.Text at 0x238f3f72da0>"
      ]
     },
     "execution_count": 9,
     "metadata": {},
     "output_type": "execute_result"
    },
    {
     "data": {
      "image/png": "[encoded data removed]",
      "text/plain": [
       "<matplotlib.figure.Figure at 0x238f3f28eb8>"
      ]
     },
     "metadata": {},
     "output_type": "display_data"
    }
   ],
   "source": [
    "plt.plot(list(range(Pts[0], Pts[-1])), data[Pts[0]:Pts[-1]], 'y', label='raw') # raw data\n",
    "plt.plot(LPts1, [conv_data[p] for p in LPts1], 'b', label='1-level smoothing') # one smoothing\n",
    "plt.plot(LPts2, [conv_data2[p] for p in LPts2], 'r', label='2-level smoothing') # two smoothing\n",
    "plt.legend(loc='upper left')\n",
    "\n",
    "plt.xlabel('Days')\n",
    "plt.ylabel('Open Price')\n",
    "plt.title('AAL Stock Price')\n",
    "\n",
    "#plt.savefig('results/AAL_smooth.png', dpi=400)"
   ]
  },
  {
   "cell_type": "markdown",
   "metadata": {},
   "source": [
    "## Pattern Detection"
   ]
  },
  {
   "cell_type": "code",
   "execution_count": 10,
   "metadata": {
    "collapsed": true
   },
   "outputs": [],
   "source": [
    "def preprocess(data):\n",
    "    \"\"\" Read data, perform 2 levels of smoothing, and obtain parameters for the Vs. \n",
    "        Return \n",
    "               Ss: list of paramters for each V where the Vs are obtained from smoothened data. \n",
    "              Pts: list of starting points of each V.\n",
    "             LPts: list of dips of each V.\n",
    "        conv_data: data after 2 round of smoothing. \"\"\" \n",
    "    \n",
    "    _, _, _, m = get_Vectors(data)\n",
    "    conv_data = np.convolve(data, [1/m]*m, 'same')\n",
    "    _, _, LPts, m = get_Vectors(conv_data)\n",
    "    conv_data = np.convolve(conv_data, [1/m]*m, 'same')\n",
    "    Vs, Pts, _, _ = get_Vectors(conv_data)\n",
    "    Ss = [getParams(v) for v in Vs]\n",
    "    \n",
    "    return Ss, Pts, LPts, conv_data"
   ]
  },
  {
   "cell_type": "code",
   "execution_count": 11,
   "metadata": {
    "collapsed": true
   },
   "outputs": [],
   "source": [
    "def preprocessW(data):\n",
    "    \"\"\" Read data, perform 2 levels of smoothing, and obtain parameters for the Vs. \n",
    "        Return \n",
    "               Ss: list of paramters for each V where the Vs are obtained from smoothened data. \n",
    "              Pts: list of starting points of each V.\n",
    "             LPts: list of dips of each V.\n",
    "        conv_data: data after 2 round of smoothing. \n",
    "        \n",
    "        Note: the difference between this as preprocess(data) is that LPts in this case is from 2-level \n",
    "        smoothing, while preprocess(data) uses LPts from 1-level smoothing.\n",
    "    \"\"\" \n",
    "    \n",
    "    _, _, _, m = get_Vectors(data)\n",
    "    conv_data = np.convolve(data, [1/m]*m, 'same')\n",
    "    _, _, _, m = get_Vectors(conv_data)\n",
    "    conv_data = np.convolve(conv_data, [1/m]*m, 'same')\n",
    "    Vs, Pts, LPts, _ = get_Vectors(conv_data)\n",
    "    Ss = [getParams(v) for v in Vs]\n",
    "    \n",
    "    return Ss, Pts, LPts, conv_data"
   ]
  },
  {
   "cell_type": "code",
   "execution_count": 12,
   "metadata": {
    "collapsed": true
   },
   "outputs": [],
   "source": [
    "def findStartV(Ss):\n",
    "    \"\"\" Find V that is big enough to be significant. \n",
    "        Could be modified to use mu[1]+std[1] instead of just mu[1]. \n",
    "    \"\"\"\n",
    "    \n",
    "    mu = np.mean(np.array(Ss), axis=0)\n",
    "    med = np.median(np.array(Ss), axis=0)\n",
    "    std = np.std(np.array(Ss), axis=0)\n",
    "    \n",
    "    if mu[1] > 12 and med[1] > 12: # In case of extremely fluctuating data\n",
    "        m = 12\n",
    "    elif mu[1] < med[1]: # otherwise, we want to find as many candidates as possible\n",
    "        m = mu[1]\n",
    "    else:\n",
    "        m = med[1]\n",
    "        \n",
    "    candidates = []\n",
    "    for i in range(len(Ss)):\n",
    "        if Ss[i][1] > m:\n",
    "            candidates.append(i)\n",
    "            \n",
    "    return candidates"
   ]
  },
  {
   "cell_type": "code",
   "execution_count": 13,
   "metadata": {
    "collapsed": false
   },
   "outputs": [],
   "source": [
    "def findCup(data, startTime, params):\n",
    "    \"\"\" Encode the rule for creating a cup. Return all starting and ending points for cup & handle patterns in the\n",
    "        data window we're interested in. \"\"\"\n",
    "    \n",
    "    window = params['window']\n",
    "    minPatternLen = params['minPatternLen']\n",
    "    endptThre = params['endptThre']\n",
    "    midptThre = params['midptThre']\n",
    "    \n",
    "    data = data[startTime-window:startTime] # Get the window of data we want\n",
    "    Ss, Pts, LPts, conv_data = preprocess(data)\n",
    "    candidates = findStartV(Ss) # Find possible starting points of cup & handle patterns\n",
    "    patterns = []\n",
    "    \n",
    "    for c in candidates:\n",
    "        left_val = data[Pts[c]]\n",
    "        for i in range(c+1, len(Ss)):\n",
    "            if Pts[i]-Pts[c] > minPatternLen and abs(data[Pts[i]]-left_val) < endptThre:\n",
    "                # If the right end is \"far enough\" away from left end and two ends are at \"similar\" heights\n",
    "                # We recognize this as the cup.\n",
    "                for j in range(len(LPts)):\n",
    "                    if LPts[j] > Pts[i]: # Find the first dip after the cup's right end to be the handle's end.\n",
    "                        patterns.append([Pts[c], LPts[j]])\n",
    "                        break\n",
    "                break\n",
    "                \n",
    "            elif data[Pts[i]]-data[LPts[c]] > midptThre*(data[Pts[c]]-data[LPts[c]]): \n",
    "                # If there's a peak that's \"too high\" to be the bottom of the cup but not close enough to\n",
    "                # left end to be the cup's right end.\n",
    "                break\n",
    "                \n",
    "            \n",
    "                \n",
    "    return patterns, conv_data"
   ]
  },
  {
   "cell_type": "code",
   "execution_count": 14,
   "metadata": {
    "collapsed": true
   },
   "outputs": [],
   "source": [
    "def findDoubleBottom(data, startTime, params):\n",
    "    \"\"\" Encode the rule for creating a W. Return all starting and ending points for W patterns in the\n",
    "        data window we're interested in. \"\"\"\n",
    "    \n",
    "    window = params['window']\n",
    "    minPatternLen = params['minPatternLen']\n",
    "    midptThre = params['midptThre']\n",
    "    endptThre = params['endptThre']\n",
    "    \n",
    "    data = data[startTime-window:startTime] # Get the window of data we want\n",
    "    Ss, Pts, LPts, conv_data = preprocessW(data)\n",
    "    candidates = findStartV(Ss) # Find possible starting points of double-bottom patterns\n",
    "    patterns = []\n",
    "    \n",
    "    for c in candidates:\n",
    "        found = 0\n",
    "        left_val = data[Pts[c]]\n",
    "        for i in range(c+2, len(Ss)):\n",
    "            if data[LPts[i]] < data[LPts[c]] - endptThre: \n",
    "                # If there's a dip much lower than first dip, reject the point.\n",
    "                break\n",
    "                \n",
    "            if Pts[i]-Pts[c] > minPatternLen and data[Pts[i]] >= data[Pts[c]]:\n",
    "                for j in range(c+1, i):\n",
    "                    if conv_data[Pts[j]] > conv_data[Pts[c]]+endptThre:\n",
    "                        # If the middle peak is much higher than the left end.\n",
    "                        found = 1\n",
    "                        break\n",
    "                        \n",
    "                    if conv_data[Pts[j]] < conv_data[Pts[c]]+endptThre and data[Pts[j]]-data[LPts[c]] > midptThre*(data[Pts[c]]-data[LPts[c]]):\n",
    "                        # If the middle peak is not too high\n",
    "                        # and the middle peak is high enough to be considered a significant peak\n",
    "                        \n",
    "                        if abs(min(conv_data[Pts[c]:Pts[j]]) - min(conv_data[Pts[j]:Pts[i]])) < endptThre:\n",
    "                            # If the two dips are close enough to each other\n",
    "                            # Note that the dip is calculated from smoothened data to remove noise\n",
    "                            patterns.append([Pts[c], Pts[i]])\n",
    "                            found = 1\n",
    "                            break  \n",
    "                        \n",
    "            if found == 1:\n",
    "                # Only detect the shortest possible pattern for a candidate.\n",
    "                break\n",
    "                \n",
    "    return patterns, conv_data"
   ]
  },
  {
   "cell_type": "code",
   "execution_count": 15,
   "metadata": {
    "collapsed": false
   },
   "outputs": [],
   "source": [
    "# A fixed set of parameters, modify to get different results\n",
    "\n",
    "# window = how far to look back from the current date\n",
    "# minPatternLen = minimum number of days that constitutes a meaningful pattern\n",
    "# endptThre = allowable price difference between points that should ideally be equal\n",
    "# midptThre = allowable percentage of the pattern's max height for an intermediate peak to be considered meaningful\n",
    "\n",
    "params = {'window': 200, 'minPatternLen': 10, 'endptThre': 2.0,\n",
    "         'midptThre': 0.3}"
   ]
  },
  {
   "cell_type": "code",
   "execution_count": 18,
   "metadata": {
    "collapsed": false
   },
   "outputs": [
    {
     "name": "stderr",
     "output_type": "stream",
     "text": [
      "C:\\Users\\shini\\Anaconda3\\lib\\site-packages\\ipykernel\\__main__.py:10: VisibleDeprecationWarning: using a non-integer number instead of an integer will result in an error in the future\n",
      "C:\\Users\\shini\\Anaconda3\\lib\\site-packages\\ipykernel\\__main__.py:12: VisibleDeprecationWarning: using a non-integer number instead of an integer will result in an error in the future\n",
      "C:\\Users\\shini\\Anaconda3\\lib\\site-packages\\ipykernel\\__main__.py:14: VisibleDeprecationWarning: using a non-integer number instead of an integer will result in an error in the future\n",
      "C:\\Users\\shini\\Anaconda3\\lib\\site-packages\\ipykernel\\__main__.py:16: VisibleDeprecationWarning: using a non-integer number instead of an integer will result in an error in the future\n"
     ]
    },
    {
     "data": {
      "image/png": "[encoded data removed]",
      "text/plain": [
       "<matplotlib.figure.Figure at 0x238f46ddba8>"
      ]
     },
     "metadata": {},
     "output_type": "display_data"
    },
    {
     "data": {
      "image/png": "[encoded data removed]",
      "text/plain": [
       "<matplotlib.figure.Figure at 0x238f47830f0>"
      ]
     },
     "metadata": {},
     "output_type": "display_data"
    },
    {
     "data": {
      "image/png": "[encoded data removed]",
      "text/plain": [
       "<matplotlib.figure.Figure at 0x238f43a0710>"
      ]
     },
     "metadata": {},
     "output_type": "display_data"
    },
    {
     "data": {
      "image/png": "[encoded data removed]",
      "text/plain": [
       "<matplotlib.figure.Figure at 0x238f481dd68>"
      ]
     },
     "metadata": {},
     "output_type": "display_data"
    },
    {
     "data": {
      "image/png": "[encoded data removed]",
      "text/plain": [
       "<matplotlib.figure.Figure at 0x238f47f15f8>"
      ]
     },
     "metadata": {},
     "output_type": "display_data"
    },
    {
     "data": {
      "image/png": "[encoded data removed]",
      "text/plain": [
       "<matplotlib.figure.Figure at 0x238f48bf470>"
      ]
     },
     "metadata": {},
     "output_type": "display_data"
    },
    {
     "data": {
      "image/png": "[encoded data removed]",
      "text/plain": [
       "<matplotlib.figure.Figure at 0x238f48d1908>"
      ]
     },
     "metadata": {},
     "output_type": "display_data"
    },
    {
     "data": {
      "image/png": "[encoded data removed]",
      "text/plain": [
       "<matplotlib.figure.Figure at 0x238f495e940>"
      ]
     },
     "metadata": {},
     "output_type": "display_data"
    }
   ],
   "source": [
    "# Run the system on all data\n",
    "file_dir = 'individual_stocks_5yr'\n",
    "files = [os.path.basename(elem) for elem in sorted(glob.glob(file_dir+'/*.csv'))]\n",
    "\n",
    "for i in range(1):#len(files)):\n",
    "    \n",
    "    # Read the data\n",
    "    file = file_dir + '/' + files[i]\n",
    "    filename = files[i].split('_')[0]\n",
    "    data = read_data(file)\n",
    "    \n",
    "    # Pick current date\n",
    "    for date in range(200, len(data), 200):\n",
    "        patterns_cup, conv_data = findCup(data, date, params) # detect cup in the window of data ending at selected date\n",
    "        patterns_W, _ = findDoubleBottom(data, date, params) # detect W in the window of data ending at selected date\n",
    "        \n",
    "        if patterns_cup != []:\n",
    "            plt.figure()\n",
    "            plt.plot(list(range(len(data[date-params['window']:date]))), data[date-params['window']:date], 'b')\n",
    "            \n",
    "            # Plot all cup-and-handle patterns detected over raw data\n",
    "            for p in patterns_cup:\n",
    "                plt.plot(list(range(p[0], p[1])), conv_data[p[0]:p[1]], 'r', linewidth=4)\n",
    "            #plt.savefig('results/' + filename + '_' + str(i)+' (C).png', dpi=400)\n",
    "            \n",
    "        if patterns_W != []:\n",
    "            plt.figure()\n",
    "            plt.plot(list(range(len(data[date-params['window']:date]))), data[date-params['window']:date], 'b')\n",
    "            \n",
    "            # Plot all double-bottom patterns detected over raw data\n",
    "            for p in patterns_W:\n",
    "                plt.plot(list(range(p[0], p[1])), conv_data[p[0]:p[1]], 'g', linewidth=4)\n",
    "            #plt.savefig('results/' + filename + '_' + str(i)+' (W).png', dpi=400)"
   ]
  },
  {
   "cell_type": "markdown",
   "metadata": {},
   "source": [
    "## Baseline System"
   ]
  },
  {
   "cell_type": "code",
   "execution_count": 19,
   "metadata": {
    "collapsed": true
   },
   "outputs": [],
   "source": [
    "def separateDatasets(data, ratio):\n",
    "    \"\"\" Take first section of the data as training data. \n",
    "        The ratio of the training data to the whole dataset\n",
    "        is specified by the input \"ratio\"\n",
    "    \"\"\"\n",
    "    \n",
    "    cut_idx = int(np.around(ratio*len(data)))\n",
    "    return data[:cut_idx], data[cut_idx:]"
   ]
  },
  {
   "cell_type": "code",
   "execution_count": 20,
   "metadata": {
    "collapsed": true
   },
   "outputs": [],
   "source": [
    "def initializePatterns(L):\n",
    "    \"\"\" Initialize desired patterns of length L. \"\"\"\n",
    "    \n",
    "    # cup & handle pattern\n",
    "    pattern1 = np.interp(np.array(range(L)), [0, int(np.around(0.33*L)), int(np.around(0.67*L)), L-1], [1.0, 0.0, 1.0, 0.7])\n",
    "    \n",
    "    # double-bottom pattern\n",
    "    pattern2 = np.interp(np.array(range(L)), [0, int(np.around(0.25*L)), int(np.around(0.5*L)), int(np.around(0.75*L)), L-1], [1.0, 0.0, 0.5, 0.0, 1.0])\n",
    "    \n",
    "    return [pattern1, pattern2]"
   ]
  },
  {
   "cell_type": "code",
   "execution_count": 21,
   "metadata": {
    "collapsed": true
   },
   "outputs": [],
   "source": [
    "def calcErr(window, pattern):\n",
    "    \"\"\" Calculate sum of squares error between window and pattern time-series data of same length. \"\"\"\n",
    "    \n",
    "    return np.sum(np.power(window-pattern, 2))"
   ]
  },
  {
   "cell_type": "code",
   "execution_count": 22,
   "metadata": {
    "collapsed": true
   },
   "outputs": [],
   "source": [
    "def updatePattern(pattern, window, c):\n",
    "    \"\"\" Calculate an average between the existing pattern and the new data window, \n",
    "        where the existing pattern has been previously created from c windows of data.\n",
    "    \"\"\"\n",
    "    \n",
    "    return ((c/(c+1)) * pattern) + ((1/(c+1)) * window)"
   ]
  },
  {
   "cell_type": "code",
   "execution_count": 23,
   "metadata": {
    "collapsed": true
   },
   "outputs": [],
   "source": [
    "def train(path, files, params):\n",
    "    \"\"\" Calculate the template from training data\n",
    "        path: path to data directory\n",
    "        files: list of files that constitute the dataset\n",
    "        params: a dictionary of parameters that will be used in the training process\n",
    "        \n",
    "        Return trained version of all patterns\n",
    "    \"\"\"\n",
    "    \n",
    "    # Extract the parameters from dictionary\n",
    "    L = params['window'] # window length\n",
    "    r = params['ratio'] \n",
    "    trainThre = params['trainThre'] \n",
    "    \n",
    "    # Initialize the patterns\n",
    "    patterns = initializePatterns(L)\n",
    "    counts = [1]*len(patterns)\n",
    "    \n",
    "    for file in files:\n",
    "        \n",
    "        # Get training data from the specific data file\n",
    "        data = read_data(path + '/' + file)\n",
    "        train, _ = separateDatasets(data, r)\n",
    "        \n",
    "        for i in range(len(train)-L):\n",
    "            # Extract a window of data starting at date i\n",
    "            window = np.array(train[i:i+L])\n",
    "            \n",
    "            # Normalize window\n",
    "            window = window - np.amin(window)\n",
    "            window = window / np.amax(window)\n",
    "            \n",
    "            # Calculate the error between the window and all available patterns\n",
    "            errs = sorted([(calcErr(window, p), i) for i, p in enumerate(patterns)])\n",
    "            \n",
    "            # Find the pattern that matches best\n",
    "            min_idx = errs[0][1]\n",
    "            \n",
    "            # If the best match produces error below the preset threshold, update pattern\n",
    "            if errs[0][0] < L*trainThre:\n",
    "                patterns[min_idx] = updatePattern(patterns[min_idx], window, counts[min_idx])\n",
    "                counts[min_idx] += 1\n",
    "            \n",
    "    return patterns"
   ]
  },
  {
   "cell_type": "code",
   "execution_count": 31,
   "metadata": {
    "collapsed": true
   },
   "outputs": [],
   "source": [
    "def test(path, file, patterns, params):\n",
    "    \"\"\" Calculate the template from training data\n",
    "        path: path to data directory\n",
    "        files: list of files that constitute the dataset\n",
    "        params: a dictionary of parameters that will be used in the training process\n",
    "        \n",
    "        Return a list of dates that are the starts of at least one desirable pattern.\n",
    "    \"\"\"\n",
    "    \n",
    "    L = params['window']\n",
    "    r = params['ratio']\n",
    "    t = params['recogThre']\n",
    "    found = [[]]*len(patterns)\n",
    "    \n",
    "    data = read_data(path + '/' + file)\n",
    "    _, test = separateDatasets(data, r)\n",
    "    for i in range(len(test)-L):\n",
    "        # Plot trained cup-and-handle pattern\n",
    "        window = np.array(test[i:i+L])\n",
    "        \n",
    "        # Calculate the error between the window and all available patterns\n",
    "        errs = sorted([(calcErr(window, p), i) for i, p in enumerate(patterns)])\n",
    "        \n",
    "        # Find the pattern that matches best\n",
    "        min_idx = errs[0][1]\n",
    "        \n",
    "        # Print the minimum error between a pattern and the window\n",
    "        print(\"Error for pattern starting at \" + str(i) + \": \" + str(errs[0][0]))\n",
    "        \n",
    "        # If the minimum error is below threshold, we have found a pattern at date i.\n",
    "        if errs[0][0] < t:\n",
    "            found[min_idx].append(i)\n",
    "    \n",
    "    # If any pattern is found, plot it over raw data.\n",
    "    if found[0] != [] or found[1] != []:\n",
    "        plt.figure()\n",
    "        plt.plot(list(range(len(test))), test, 'b')\n",
    "        for i in found[0]:\n",
    "            plt.plot(list(range(L)), patterns[0], 'r', linewidth=4)\n",
    "        for i in found[1]:\n",
    "            plt.plot(list(range(L)), patterns[1], 'g', linewidth=4)\n",
    "        \n",
    "    return found"
   ]
  },
  {
   "cell_type": "code",
   "execution_count": 25,
   "metadata": {
    "collapsed": true
   },
   "outputs": [],
   "source": [
    "# A fixed set of parameters, modify to get different results\n",
    "baseline_params = {'window': 50, 'ratio': 0.6, 'trainThre': 0.04, 'recogThre': 100}"
   ]
  },
  {
   "cell_type": "code",
   "execution_count": 27,
   "metadata": {
    "collapsed": false
   },
   "outputs": [],
   "source": [
    "file_dir = 'individual_stocks_5yr'\n",
    "files = [os.path.basename(elem) for elem in sorted(glob.glob(file_dir+'/*.csv'))]\n",
    "\n",
    "# Create templates of patterns with training data\n",
    "patterns = train(file_dir, files, baseline_params)"
   ]
  },
  {
   "cell_type": "code",
   "execution_count": 28,
   "metadata": {
    "collapsed": false
   },
   "outputs": [
    {
     "data": {
      "text/plain": [
       "[<matplotlib.lines.Line2D at 0x238f5af1320>]"
      ]
     },
     "execution_count": 28,
     "metadata": {},
     "output_type": "execute_result"
    },
    {
     "data": {
      "image/png": "[encoded data removed]",
      "text/plain": [
       "<matplotlib.figure.Figure at 0x238f4a59d30>"
      ]
     },
     "metadata": {},
     "output_type": "display_data"
    }
   ],
   "source": [
    "# Plot trained cup-and-handle pattern\n",
    "plt.plot(list(range(len(patterns[0]))), patterns[0])\n",
    "plt.savefig('results/trained_cup-handle.png', dpi=400)"
   ]
  },
  {
   "cell_type": "code",
   "execution_count": 29,
   "metadata": {
    "collapsed": false
   },
   "outputs": [
    {
     "data": {
      "text/plain": [
       "[<matplotlib.lines.Line2D at 0x238f5b569e8>]"
      ]
     },
     "execution_count": 29,
     "metadata": {},
     "output_type": "execute_result"
    },
    {
     "data": {
      "image/png": "[encoded data removed]",
      "text/plain": [
       "<matplotlib.figure.Figure at 0x238f5b035f8>"
      ]
     },
     "metadata": {},
     "output_type": "display_data"
    }
   ],
   "source": [
    "# Plot trained double-bottom pattern\n",
    "plt.plot(list(range(len(patterns[1]))), patterns[1])\n",
    "plt.savefig('results/trained_double-bottom.png', dpi=400)"
   ]
  },
  {
   "cell_type": "code",
   "execution_count": 32,
   "metadata": {
    "collapsed": false
   },
   "outputs": [
    {
     "name": "stdout",
     "output_type": "stream",
     "text": [
      "Error for pattern starting at 0: 79904.646499\n",
      "Error for pattern starting at 1: 80347.7576219\n",
      "Error for pattern starting at 2: 80434.6834301\n",
      "Error for pattern starting at 3: 80564.4855406\n",
      "Error for pattern starting at 4: 80595.8027499\n",
      "Error for pattern starting at 5: 80501.8755674\n",
      "Error for pattern starting at 6: 80362.9138812\n",
      "Error for pattern starting at 7: 80104.4044284\n",
      "Error for pattern starting at 8: 79804.7981036\n",
      "Error for pattern starting at 9: 79411.9477657\n",
      "Error for pattern starting at 10: 78945.5025704\n",
      "Error for pattern starting at 11: 78463.764579\n",
      "Error for pattern starting at 12: 77883.0797082\n",
      "Error for pattern starting at 13: 77264.5217766\n",
      "Error for pattern starting at 14: 76719.1589712\n",
      "Error for pattern starting at 15: 76147.3444314\n",
      "Error for pattern starting at 16: 75529.2825667\n",
      "Error for pattern starting at 17: 74787.0798567\n",
      "Error for pattern starting at 18: 74034.3852025\n",
      "Error for pattern starting at 19: 73380.3790732\n",
      "Error for pattern starting at 20: 72749.6154132\n",
      "Error for pattern starting at 21: 72143.5162535\n",
      "Error for pattern starting at 22: 71425.2166689\n",
      "Error for pattern starting at 23: 70708.1083298\n",
      "Error for pattern starting at 24: 69946.7081323\n",
      "Error for pattern starting at 25: 69217.0748406\n",
      "Error for pattern starting at 26: 68511.8610801\n",
      "Error for pattern starting at 27: 67731.5083008\n",
      "Error for pattern starting at 28: 66960.0315539\n",
      "Error for pattern starting at 29: 66113.7431349\n",
      "Error for pattern starting at 30: 65362.6671958\n",
      "Error for pattern starting at 31: 64538.6742443\n",
      "Error for pattern starting at 32: 63742.2830268\n",
      "Error for pattern starting at 33: 63059.9872108\n",
      "Error for pattern starting at 34: 62458.4662532\n",
      "Error for pattern starting at 35: 61762.5868073\n",
      "Error for pattern starting at 36: 61121.9464967\n",
      "Error for pattern starting at 37: 60604.6457336\n",
      "Error for pattern starting at 38: 60038.1353696\n",
      "Error for pattern starting at 39: 59454.4012939\n",
      "Error for pattern starting at 40: 58825.1489203\n",
      "Error for pattern starting at 41: 58187.3524929\n",
      "Error for pattern starting at 42: 57583.2906599\n",
      "Error for pattern starting at 43: 57003.4714982\n",
      "Error for pattern starting at 44: 56406.9847277\n",
      "Error for pattern starting at 45: 55784.5506532\n",
      "Error for pattern starting at 46: 54963.0101189\n",
      "Error for pattern starting at 47: 53991.0630639\n",
      "Error for pattern starting at 48: 52991.2694332\n",
      "Error for pattern starting at 49: 52048.7979885\n",
      "Error for pattern starting at 50: 51124.4571807\n",
      "Error for pattern starting at 51: 50267.4377085\n",
      "Error for pattern starting at 52: 49700.3541204\n",
      "Error for pattern starting at 53: 49023.4601207\n",
      "Error for pattern starting at 54: 48447.5070637\n",
      "Error for pattern starting at 55: 47986.3480813\n",
      "Error for pattern starting at 56: 47531.6473061\n",
      "Error for pattern starting at 57: 47322.283952\n",
      "Error for pattern starting at 58: 47317.2373988\n",
      "Error for pattern starting at 59: 47335.6041517\n",
      "Error for pattern starting at 60: 47421.9775505\n",
      "Error for pattern starting at 61: 47604.4042489\n",
      "Error for pattern starting at 62: 47809.3692471\n",
      "Error for pattern starting at 63: 48011.1079845\n",
      "Error for pattern starting at 64: 48131.6324368\n",
      "Error for pattern starting at 65: 48317.0683509\n",
      "Error for pattern starting at 66: 48539.9405727\n",
      "Error for pattern starting at 67: 48854.4087255\n",
      "Error for pattern starting at 68: 49165.545297\n",
      "Error for pattern starting at 69: 49418.2349516\n",
      "Error for pattern starting at 70: 49661.1569108\n",
      "Error for pattern starting at 71: 49875.0499405\n",
      "Error for pattern starting at 72: 50077.3852195\n",
      "Error for pattern starting at 73: 50168.2750587\n",
      "Error for pattern starting at 74: 50274.7224722\n",
      "Error for pattern starting at 75: 50358.4656899\n",
      "Error for pattern starting at 76: 50492.8074601\n",
      "Error for pattern starting at 77: 50727.9512585\n",
      "Error for pattern starting at 78: 50911.6035023\n",
      "Error for pattern starting at 79: 51060.5463418\n",
      "Error for pattern starting at 80: 51259.7108546\n",
      "Error for pattern starting at 81: 51479.0474547\n",
      "Error for pattern starting at 82: 51798.4090683\n",
      "Error for pattern starting at 83: 52146.5479533\n",
      "Error for pattern starting at 84: 52402.3969973\n",
      "Error for pattern starting at 85: 52683.7344768\n",
      "Error for pattern starting at 86: 52921.8574912\n",
      "Error for pattern starting at 87: 53147.0346391\n",
      "Error for pattern starting at 88: 53445.0326216\n",
      "Error for pattern starting at 89: 53820.3710179\n",
      "Error for pattern starting at 90: 54271.3391173\n",
      "Error for pattern starting at 91: 54724.5157941\n",
      "Error for pattern starting at 92: 55092.3670181\n",
      "Error for pattern starting at 93: 55535.6009396\n",
      "Error for pattern starting at 94: 55961.9048488\n",
      "Error for pattern starting at 95: 56338.8925224\n",
      "Error for pattern starting at 96: 56867.1862102\n",
      "Error for pattern starting at 97: 57545.4883056\n",
      "Error for pattern starting at 98: 58350.3552901\n",
      "Error for pattern starting at 99: 59136.4770179\n",
      "Error for pattern starting at 100: 59740.0763702\n",
      "Error for pattern starting at 101: 60387.7736621\n",
      "Error for pattern starting at 102: 60906.0908008\n",
      "Error for pattern starting at 103: 61450.4595977\n",
      "Error for pattern starting at 104: 61956.2473438\n",
      "Error for pattern starting at 105: 62338.4054655\n",
      "Error for pattern starting at 106: 62701.2549546\n",
      "Error for pattern starting at 107: 62852.4299304\n",
      "Error for pattern starting at 108: 62851.0355039\n",
      "Error for pattern starting at 109: 62865.2842608\n",
      "Error for pattern starting at 110: 62843.8525905\n",
      "Error for pattern starting at 111: 62771.0030994\n",
      "Error for pattern starting at 112: 62793.7218284\n",
      "Error for pattern starting at 113: 62764.2010886\n",
      "Error for pattern starting at 114: 62826.554908\n",
      "Error for pattern starting at 115: 62826.6434689\n",
      "Error for pattern starting at 116: 62975.1349187\n",
      "Error for pattern starting at 117: 63112.9157408\n",
      "Error for pattern starting at 118: 63208.9175919\n",
      "Error for pattern starting at 119: 63367.2945871\n",
      "Error for pattern starting at 120: 63489.7009799\n",
      "Error for pattern starting at 121: 63819.127328\n",
      "Error for pattern starting at 122: 64016.4343774\n",
      "Error for pattern starting at 123: 64259.7336871\n",
      "Error for pattern starting at 124: 64683.0991354\n",
      "Error for pattern starting at 125: 65036.8514263\n",
      "Error for pattern starting at 126: 65369.8149441\n",
      "Error for pattern starting at 127: 65683.4021791\n",
      "Error for pattern starting at 128: 66154.2543721\n",
      "Error for pattern starting at 129: 66572.5254604\n",
      "Error for pattern starting at 130: 66979.2044105\n",
      "Error for pattern starting at 131: 67324.5954632\n",
      "Error for pattern starting at 132: 67536.7513389\n",
      "Error for pattern starting at 133: 67743.3265299\n",
      "Error for pattern starting at 134: 67999.2365379\n",
      "Error for pattern starting at 135: 68290.5997674\n",
      "Error for pattern starting at 136: 68605.8689282\n",
      "Error for pattern starting at 137: 68859.9730895\n",
      "Error for pattern starting at 138: 69122.4781323\n",
      "Error for pattern starting at 139: 69340.6121321\n",
      "Error for pattern starting at 140: 69621.389155\n",
      "Error for pattern starting at 141: 70024.6679738\n",
      "Error for pattern starting at 142: 70423.5181399\n",
      "Error for pattern starting at 143: 70872.2086982\n",
      "Error for pattern starting at 144: 71300.1452841\n",
      "Error for pattern starting at 145: 71844.9159585\n",
      "Error for pattern starting at 146: 72529.0760001\n",
      "Error for pattern starting at 147: 73106.1794742\n",
      "Error for pattern starting at 148: 73570.3304701\n",
      "Error for pattern starting at 149: 74166.2081226\n",
      "Error for pattern starting at 150: 74925.7110405\n",
      "Error for pattern starting at 151: 75578.8921164\n",
      "Error for pattern starting at 152: 76318.0031617\n",
      "Error for pattern starting at 153: 77134.1025589\n",
      "Error for pattern starting at 154: 77981.4935875\n",
      "Error for pattern starting at 155: 78867.6155127\n",
      "Error for pattern starting at 156: 79706.7145508\n",
      "Error for pattern starting at 157: 80604.4395308\n",
      "Error for pattern starting at 158: 81495.3171187\n",
      "Error for pattern starting at 159: 82395.4129871\n",
      "Error for pattern starting at 160: 83277.2123141\n",
      "Error for pattern starting at 161: 84214.9961829\n",
      "Error for pattern starting at 162: 85259.7994716\n",
      "Error for pattern starting at 163: 86401.5339409\n",
      "Error for pattern starting at 164: 87509.4657358\n",
      "Error for pattern starting at 165: 88466.775461\n",
      "Error for pattern starting at 166: 89271.0677892\n",
      "Error for pattern starting at 167: 90143.4857327\n",
      "Error for pattern starting at 168: 91063.952295\n",
      "Error for pattern starting at 169: 91884.7113072\n",
      "Error for pattern starting at 170: 92786.3346222\n",
      "Error for pattern starting at 171: 93610.5619053\n",
      "Error for pattern starting at 172: 94581.6838674\n",
      "Error for pattern starting at 173: 95569.4885602\n",
      "Error for pattern starting at 174: 96336.8398347\n",
      "Error for pattern starting at 175: 97207.9488179\n",
      "Error for pattern starting at 176: 97977.3339386\n",
      "Error for pattern starting at 177: 98661.5622108\n",
      "Error for pattern starting at 178: 99216.8697774\n",
      "Error for pattern starting at 179: 99789.9642608\n",
      "Error for pattern starting at 180: 100330.895076\n",
      "Error for pattern starting at 181: 100858.360771\n",
      "Error for pattern starting at 182: 101485.481959\n",
      "Error for pattern starting at 183: 102134.776019\n",
      "Error for pattern starting at 184: 102969.204002\n",
      "Error for pattern starting at 185: 103707.466662\n",
      "Error for pattern starting at 186: 104381.347475\n",
      "Error for pattern starting at 187: 105062.233174\n",
      "Error for pattern starting at 188: 105723.080215\n",
      "Error for pattern starting at 189: 106447.284952\n",
      "Error for pattern starting at 190: 107073.416872\n",
      "Error for pattern starting at 191: 107649.443563\n",
      "Error for pattern starting at 192: 108200.447434\n",
      "Error for pattern starting at 193: 108668.546977\n",
      "Error for pattern starting at 194: 109240.980285\n",
      "Error for pattern starting at 195: 109885.586008\n",
      "Error for pattern starting at 196: 109944.463527\n",
      "Error for pattern starting at 197: 109960.174237\n",
      "Error for pattern starting at 198: 109996.377626\n",
      "Error for pattern starting at 199: 109774.953092\n",
      "Error for pattern starting at 200: 109585.200898\n",
      "Error for pattern starting at 201: 109477.89606\n",
      "Error for pattern starting at 202: 109453.093206\n",
      "Error for pattern starting at 203: 109357.788694\n",
      "Error for pattern starting at 204: 109217.771035\n",
      "Error for pattern starting at 205: 109221.757461\n",
      "Error for pattern starting at 206: 109261.81914\n",
      "Error for pattern starting at 207: 109360.771922\n",
      "Error for pattern starting at 208: 109500.536212\n",
      "Error for pattern starting at 209: 109598.656985\n",
      "Error for pattern starting at 210: 109661.505741\n",
      "Error for pattern starting at 211: 109699.276788\n",
      "Error for pattern starting at 212: 109501.257747\n",
      "Error for pattern starting at 213: 109230.463321\n",
      "Error for pattern starting at 214: 108932.277399\n",
      "Error for pattern starting at 215: 108768.417732\n",
      "Error for pattern starting at 216: 108626.742062\n",
      "Error for pattern starting at 217: 108503.055656\n",
      "Error for pattern starting at 218: 108319.110218\n",
      "Error for pattern starting at 219: 108129.955905\n",
      "Error for pattern starting at 220: 107932.779932\n",
      "Error for pattern starting at 221: 107528.891401\n",
      "Error for pattern starting at 222: 107103.668418\n",
      "Error for pattern starting at 223: 106725.277273\n",
      "Error for pattern starting at 224: 106288.061757\n",
      "Error for pattern starting at 225: 105831.242358\n",
      "Error for pattern starting at 226: 105323.488303\n",
      "Error for pattern starting at 227: 104725.621952\n",
      "Error for pattern starting at 228: 104276.831377\n",
      "Error for pattern starting at 229: 103873.951751\n",
      "Error for pattern starting at 230: 103495.999765\n",
      "Error for pattern starting at 231: 103154.942188\n",
      "Error for pattern starting at 232: 102631.260902\n",
      "Error for pattern starting at 233: 102088.036747\n",
      "Error for pattern starting at 234: 101404.58185\n",
      "Error for pattern starting at 235: 100731.288708\n",
      "Error for pattern starting at 236: 100168.731694\n",
      "Error for pattern starting at 237: 99734.4626223\n",
      "Error for pattern starting at 238: 99246.2084892\n",
      "Error for pattern starting at 239: 98777.3333253\n",
      "Error for pattern starting at 240: 98314.4542393\n",
      "Error for pattern starting at 241: 97797.2888074\n",
      "Error for pattern starting at 242: 97283.8289719\n",
      "Error for pattern starting at 243: 96709.9012179\n",
      "Error for pattern starting at 244: 96095.4060171\n",
      "Error for pattern starting at 245: 95349.4249747\n",
      "Error for pattern starting at 246: 95101.288065\n",
      "Error for pattern starting at 247: 95100.3298158\n",
      "Error for pattern starting at 248: 95029.7218408\n",
      "Error for pattern starting at 249: 95018.2862547\n",
      "Error for pattern starting at 250: 94993.3692485\n",
      "Error for pattern starting at 251: 94928.2481779\n",
      "Error for pattern starting at 252: 94832.9402837\n",
      "Error for pattern starting at 253: 94851.8735432\n",
      "Error for pattern starting at 254: 94887.8304979\n",
      "Error for pattern starting at 255: 94899.7146656\n",
      "Error for pattern starting at 256: 94890.5379687\n",
      "Error for pattern starting at 257: 94585.2316122\n",
      "Error for pattern starting at 258: 94258.1011998\n",
      "Error for pattern starting at 259: 93832.2627967\n",
      "Error for pattern starting at 260: 93411.2039907\n",
      "Error for pattern starting at 261: 93108.4433643\n",
      "Error for pattern starting at 262: 92897.1050609\n",
      "Error for pattern starting at 263: 92677.5804482\n",
      "Error for pattern starting at 264: 92548.854931\n",
      "Error for pattern starting at 265: 92474.1845546\n",
      "Error for pattern starting at 266: 92534.4214999\n",
      "Error for pattern starting at 267: 92567.6940466\n",
      "Error for pattern starting at 268: 92525.0562168\n",
      "Error for pattern starting at 269: 92507.6163816\n",
      "Error for pattern starting at 270: 92537.6695665\n",
      "Error for pattern starting at 271: 92645.2507669\n",
      "Error for pattern starting at 272: 92609.0611485\n",
      "Error for pattern starting at 273: 92633.787963\n",
      "Error for pattern starting at 274: 92796.669201\n",
      "Error for pattern starting at 275: 93020.6530783\n",
      "Error for pattern starting at 276: 93430.499197\n",
      "Error for pattern starting at 277: 93991.8837328\n",
      "Error for pattern starting at 278: 94489.3971138\n",
      "Error for pattern starting at 279: 95052.1993386\n",
      "Error for pattern starting at 280: 95588.6962234\n",
      "Error for pattern starting at 281: 96179.0137784\n",
      "Error for pattern starting at 282: 97042.5798251\n",
      "Error for pattern starting at 283: 97829.6488258\n",
      "Error for pattern starting at 284: 98529.8026245\n",
      "Error for pattern starting at 285: 99278.4115488\n",
      "Error for pattern starting at 286: 100104.381251\n",
      "Error for pattern starting at 287: 100933.666982\n",
      "Error for pattern starting at 288: 101683.029838\n",
      "Error for pattern starting at 289: 102336.083636\n",
      "Error for pattern starting at 290: 103000.537356\n",
      "Error for pattern starting at 291: 103636.898807\n",
      "Error for pattern starting at 292: 104328.373825\n",
      "Error for pattern starting at 293: 105021.653883\n",
      "Error for pattern starting at 294: 105713.11562\n",
      "Error for pattern starting at 295: 106296.262284\n",
      "Error for pattern starting at 296: 107008.502914\n",
      "Error for pattern starting at 297: 107398.80943\n",
      "Error for pattern starting at 298: 107845.360963\n",
      "Error for pattern starting at 299: 108313.848852\n",
      "Error for pattern starting at 300: 108754.723847\n",
      "Error for pattern starting at 301: 109236.604853\n",
      "Error for pattern starting at 302: 109724.415058\n",
      "Error for pattern starting at 303: 110226.471864\n",
      "Error for pattern starting at 304: 110694.902173\n",
      "Error for pattern starting at 305: 111096.699603\n",
      "Error for pattern starting at 306: 111660.695802\n",
      "Error for pattern starting at 307: 112529.712762\n",
      "Error for pattern starting at 308: 113347.792514\n",
      "Error for pattern starting at 309: 114331.25995\n",
      "Error for pattern starting at 310: 115403.52633\n",
      "Error for pattern starting at 311: 116380.63467\n",
      "Error for pattern starting at 312: 117356.884824\n",
      "Error for pattern starting at 313: 118308.816999\n",
      "Error for pattern starting at 314: 119044.167444\n",
      "Error for pattern starting at 315: 119755.43809\n",
      "Error for pattern starting at 316: 120255.831608\n",
      "Error for pattern starting at 317: 120704.756661\n",
      "Error for pattern starting at 318: 121212.964455\n",
      "Error for pattern starting at 319: 121685.36959\n",
      "Error for pattern starting at 320: 122028.632969\n",
      "Error for pattern starting at 321: 122293.289595\n",
      "Error for pattern starting at 322: 122904.899286\n",
      "Error for pattern starting at 323: 123509.166335\n",
      "Error for pattern starting at 324: 124041.89226\n",
      "Error for pattern starting at 325: 124455.99466\n",
      "Error for pattern starting at 326: 124837.578844\n",
      "Error for pattern starting at 327: 125210.881556\n",
      "Error for pattern starting at 328: 125494.711787\n",
      "Error for pattern starting at 329: 125635.082038\n",
      "Error for pattern starting at 330: 125718.201174\n",
      "Error for pattern starting at 331: 125721.684945\n",
      "Error for pattern starting at 332: 125655.961955\n",
      "Error for pattern starting at 333: 125583.644875\n",
      "Error for pattern starting at 334: 125505.800512\n",
      "Error for pattern starting at 335: 125393.808769\n",
      "Error for pattern starting at 336: 124958.765437\n",
      "Error for pattern starting at 337: 124395.536251\n",
      "Error for pattern starting at 338: 123996.203971\n",
      "Error for pattern starting at 339: 123589.761133\n",
      "Error for pattern starting at 340: 123084.256694\n",
      "Error for pattern starting at 341: 122539.004139\n",
      "Error for pattern starting at 342: 122202.358767\n",
      "Error for pattern starting at 343: 121781.48232\n",
      "Error for pattern starting at 344: 121352.491042\n",
      "Error for pattern starting at 345: 121009.91867\n",
      "Error for pattern starting at 346: 120480.438567\n",
      "Error for pattern starting at 347: 120094.336989\n",
      "Error for pattern starting at 348: 119580.123918\n",
      "Error for pattern starting at 349: 119180.18614\n",
      "Error for pattern starting at 350: 118725.877604\n",
      "Error for pattern starting at 351: 118243.53841\n",
      "Error for pattern starting at 352: 117864.262326\n",
      "Error for pattern starting at 353: 117439.077725\n",
      "Error for pattern starting at 354: 117088.164569\n",
      "Error for pattern starting at 355: 116548.750351\n",
      "Error for pattern starting at 356: 115936.553358\n",
      "Error for pattern starting at 357: 115186.384305\n",
      "Error for pattern starting at 358: 114446.199451\n",
      "Error for pattern starting at 359: 113697.553463\n",
      "Error for pattern starting at 360: 113018.217906\n",
      "Error for pattern starting at 361: 112333.487323\n",
      "Error for pattern starting at 362: 111684.371309\n",
      "Error for pattern starting at 363: 111051.615825\n",
      "Error for pattern starting at 364: 110510.688041\n",
      "Error for pattern starting at 365: 109987.070908\n",
      "Error for pattern starting at 366: 109527.771348\n",
      "Error for pattern starting at 367: 109116.638027\n",
      "Error for pattern starting at 368: 109009.084583\n",
      "Error for pattern starting at 369: 109024.925124\n",
      "Error for pattern starting at 370: 109054.94718\n",
      "Error for pattern starting at 371: 109268.847604\n",
      "Error for pattern starting at 372: 109378.59424\n",
      "Error for pattern starting at 373: 109573.547796\n",
      "Error for pattern starting at 374: 109753.400185\n",
      "Error for pattern starting at 375: 109961.521487\n",
      "Error for pattern starting at 376: 110143.09455\n",
      "Error for pattern starting at 377: 110330.289643\n",
      "Error for pattern starting at 378: 110468.896071\n",
      "Error for pattern starting at 379: 110646.742261\n",
      "Error for pattern starting at 380: 110893.669523\n",
      "Error for pattern starting at 381: 111228.937411\n",
      "Error for pattern starting at 382: 111438.357674\n",
      "Error for pattern starting at 383: 111734.506812\n",
      "Error for pattern starting at 384: 112064.959855\n",
      "Error for pattern starting at 385: 112079.082498\n",
      "Error for pattern starting at 386: 112205.601444\n",
      "Error for pattern starting at 387: 112344.597322\n",
      "Error for pattern starting at 388: 112545.74695\n",
      "Error for pattern starting at 389: 112789.077907\n",
      "Error for pattern starting at 390: 113085.048726\n",
      "Error for pattern starting at 391: 113480.971578\n",
      "Error for pattern starting at 392: 113693.297652\n",
      "Error for pattern starting at 393: 113867.94814\n",
      "Error for pattern starting at 394: 113990.265251\n",
      "Error for pattern starting at 395: 114093.864821\n",
      "Error for pattern starting at 396: 114169.05974\n",
      "Error for pattern starting at 397: 114220.281513\n",
      "Error for pattern starting at 398: 114457.149098\n",
      "Error for pattern starting at 399: 114739.782838\n",
      "Error for pattern starting at 400: 115087.489232\n",
      "Error for pattern starting at 401: 115392.582909\n",
      "Error for pattern starting at 402: 115580.617922\n",
      "Error for pattern starting at 403: 115792.6221\n",
      "Error for pattern starting at 404: 115971.397166\n",
      "Error for pattern starting at 405: 116282.222867\n",
      "Error for pattern starting at 406: 116511.286009\n",
      "Error for pattern starting at 407: 116898.031807\n",
      "Error for pattern starting at 408: 117354.163955\n",
      "Error for pattern starting at 409: 117751.929404\n",
      "Error for pattern starting at 410: 118090.866667\n",
      "Error for pattern starting at 411: 118366.953402\n",
      "Error for pattern starting at 412: 118516.814744\n",
      "Error for pattern starting at 413: 118704.958084\n",
      "Error for pattern starting at 414: 119136.653134\n",
      "Error for pattern starting at 415: 119456.446786\n",
      "Error for pattern starting at 416: 119822.522055\n",
      "Error for pattern starting at 417: 120106.216649\n",
      "Error for pattern starting at 418: 120112.832401\n",
      "Error for pattern starting at 419: 120091.969901\n",
      "Error for pattern starting at 420: 120144.361023\n",
      "Error for pattern starting at 421: 120178.226279\n",
      "Error for pattern starting at 422: 120129.740353\n",
      "Error for pattern starting at 423: 120026.090355\n",
      "Error for pattern starting at 424: 120020.31783\n",
      "Error for pattern starting at 425: 119981.594926\n",
      "Error for pattern starting at 426: 120005.183879\n",
      "Error for pattern starting at 427: 119971.602013\n",
      "Error for pattern starting at 428: 119998.793444\n",
      "Error for pattern starting at 429: 120072.644313\n",
      "Error for pattern starting at 430: 120202.458507\n",
      "Error for pattern starting at 431: 120255.879335\n",
      "Error for pattern starting at 432: 120432.903315\n",
      "Error for pattern starting at 433: 120513.478152\n",
      "Error for pattern starting at 434: 120609.828301\n",
      "Error for pattern starting at 435: 121093.039999\n",
      "Error for pattern starting at 436: 121782.799648\n",
      "Error for pattern starting at 437: 122739.74702\n",
      "Error for pattern starting at 438: 123876.239986\n",
      "Error for pattern starting at 439: 124977.712326\n",
      "Error for pattern starting at 440: 126084.770671\n",
      "Error for pattern starting at 441: 127250.443316\n",
      "Error for pattern starting at 442: 128342.803982\n",
      "Error for pattern starting at 443: 129509.10143\n",
      "Error for pattern starting at 444: 130354.094989\n",
      "Error for pattern starting at 445: 131181.234963\n",
      "Error for pattern starting at 446: 131972.511533\n",
      "Error for pattern starting at 447: 132703.95251\n",
      "Error for pattern starting at 448: 133363.255479\n",
      "Error for pattern starting at 449: 133944.477066\n",
      "Error for pattern starting at 450: 134590.655538\n",
      "Error for pattern starting at 451: 135208.667941\n",
      "Error for pattern starting at 452: 135618.09336\n",
      "Error for pattern starting at 453: 135695.457247\n"
     ]
    }
   ],
   "source": [
    "found = test(file_dir, files[0], patterns, baseline_params)"
   ]
  }
 ],
 "metadata": {
  "anaconda-cloud": {},
  "kernelspec": {
   "display_name": "Python [Anaconda3]",
   "language": "python",
   "name": "Python [Anaconda3]"
  },
  "language_info": {
   "codemirror_mode": {
    "name": "ipython",
    "version": 3
   },
   "file_extension": ".py",
   "mimetype": "text/x-python",
   "name": "python",
   "nbconvert_exporter": "python",
   "pygments_lexer": "ipython3",
   "version": "3.5.2"
  }
 },
 "nbformat": 4,
 "nbformat_minor": 0
}
